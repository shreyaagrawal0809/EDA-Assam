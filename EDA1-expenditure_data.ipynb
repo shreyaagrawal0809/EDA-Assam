{
 "cells": [
  {
   "cell_type": "code",
   "execution_count": 4,
   "metadata": {},
   "outputs": [],
   "source": [
    "import pandas as pd"
   ]
  },
  {
   "cell_type": "code",
   "execution_count": 5,
   "metadata": {},
   "outputs": [
    {
     "ename": "IOError",
     "evalue": "File /home/ubuntu/Cvivc data lab /Assam budgetboard/dataset/assam_processed_data.csv - assam_processed_data.csv.csv does not exist",
     "output_type": "error",
     "traceback": [
      "\u001b[0;31m---------------------------------------------------------------------------\u001b[0m",
      "\u001b[0;31mIOError\u001b[0m                                   Traceback (most recent call last)",
      "\u001b[0;32m<ipython-input-5-f9407501f8b3>\u001b[0m in \u001b[0;36m<module>\u001b[0;34m()\u001b[0m\n\u001b[0;32m----> 1\u001b[0;31m assam_data  = pd.read_csv('/home/ubuntu/Cvivc data lab /Assam budgetboard/dataset/assam_processed_data.csv - assam_processed_data.csv.csv' \n\u001b[0m\u001b[1;32m      2\u001b[0m )\n",
      "\u001b[0;32m/home/ubuntu/.local/lib/python2.7/site-packages/pandas/io/parsers.pyc\u001b[0m in \u001b[0;36mparser_f\u001b[0;34m(filepath_or_buffer, sep, delimiter, header, names, index_col, usecols, squeeze, prefix, mangle_dupe_cols, dtype, engine, converters, true_values, false_values, skipinitialspace, skiprows, nrows, na_values, keep_default_na, na_filter, verbose, skip_blank_lines, parse_dates, infer_datetime_format, keep_date_col, date_parser, dayfirst, iterator, chunksize, compression, thousands, decimal, lineterminator, quotechar, quoting, escapechar, comment, encoding, dialect, tupleize_cols, error_bad_lines, warn_bad_lines, skipfooter, doublequote, delim_whitespace, low_memory, memory_map, float_precision)\u001b[0m\n\u001b[1;32m    676\u001b[0m                     skip_blank_lines=skip_blank_lines)\n\u001b[1;32m    677\u001b[0m \u001b[0;34m\u001b[0m\u001b[0m\n\u001b[0;32m--> 678\u001b[0;31m         \u001b[0;32mreturn\u001b[0m \u001b[0m_read\u001b[0m\u001b[0;34m(\u001b[0m\u001b[0mfilepath_or_buffer\u001b[0m\u001b[0;34m,\u001b[0m \u001b[0mkwds\u001b[0m\u001b[0;34m)\u001b[0m\u001b[0;34m\u001b[0m\u001b[0m\n\u001b[0m\u001b[1;32m    679\u001b[0m \u001b[0;34m\u001b[0m\u001b[0m\n\u001b[1;32m    680\u001b[0m     \u001b[0mparser_f\u001b[0m\u001b[0;34m.\u001b[0m\u001b[0m__name__\u001b[0m \u001b[0;34m=\u001b[0m \u001b[0mname\u001b[0m\u001b[0;34m\u001b[0m\u001b[0m\n",
      "\u001b[0;32m/home/ubuntu/.local/lib/python2.7/site-packages/pandas/io/parsers.pyc\u001b[0m in \u001b[0;36m_read\u001b[0;34m(filepath_or_buffer, kwds)\u001b[0m\n\u001b[1;32m    438\u001b[0m \u001b[0;34m\u001b[0m\u001b[0m\n\u001b[1;32m    439\u001b[0m     \u001b[0;31m# Create the parser.\u001b[0m\u001b[0;34m\u001b[0m\u001b[0;34m\u001b[0m\u001b[0m\n\u001b[0;32m--> 440\u001b[0;31m     \u001b[0mparser\u001b[0m \u001b[0;34m=\u001b[0m \u001b[0mTextFileReader\u001b[0m\u001b[0;34m(\u001b[0m\u001b[0mfilepath_or_buffer\u001b[0m\u001b[0;34m,\u001b[0m \u001b[0;34m**\u001b[0m\u001b[0mkwds\u001b[0m\u001b[0;34m)\u001b[0m\u001b[0;34m\u001b[0m\u001b[0m\n\u001b[0m\u001b[1;32m    441\u001b[0m \u001b[0;34m\u001b[0m\u001b[0m\n\u001b[1;32m    442\u001b[0m     \u001b[0;32mif\u001b[0m \u001b[0mchunksize\u001b[0m \u001b[0;32mor\u001b[0m \u001b[0miterator\u001b[0m\u001b[0;34m:\u001b[0m\u001b[0;34m\u001b[0m\u001b[0m\n",
      "\u001b[0;32m/home/ubuntu/.local/lib/python2.7/site-packages/pandas/io/parsers.pyc\u001b[0m in \u001b[0;36m__init__\u001b[0;34m(self, f, engine, **kwds)\u001b[0m\n\u001b[1;32m    785\u001b[0m             \u001b[0mself\u001b[0m\u001b[0;34m.\u001b[0m\u001b[0moptions\u001b[0m\u001b[0;34m[\u001b[0m\u001b[0;34m'has_index_names'\u001b[0m\u001b[0;34m]\u001b[0m \u001b[0;34m=\u001b[0m \u001b[0mkwds\u001b[0m\u001b[0;34m[\u001b[0m\u001b[0;34m'has_index_names'\u001b[0m\u001b[0;34m]\u001b[0m\u001b[0;34m\u001b[0m\u001b[0m\n\u001b[1;32m    786\u001b[0m \u001b[0;34m\u001b[0m\u001b[0m\n\u001b[0;32m--> 787\u001b[0;31m         \u001b[0mself\u001b[0m\u001b[0;34m.\u001b[0m\u001b[0m_make_engine\u001b[0m\u001b[0;34m(\u001b[0m\u001b[0mself\u001b[0m\u001b[0;34m.\u001b[0m\u001b[0mengine\u001b[0m\u001b[0;34m)\u001b[0m\u001b[0;34m\u001b[0m\u001b[0m\n\u001b[0m\u001b[1;32m    788\u001b[0m \u001b[0;34m\u001b[0m\u001b[0m\n\u001b[1;32m    789\u001b[0m     \u001b[0;32mdef\u001b[0m \u001b[0mclose\u001b[0m\u001b[0;34m(\u001b[0m\u001b[0mself\u001b[0m\u001b[0;34m)\u001b[0m\u001b[0;34m:\u001b[0m\u001b[0;34m\u001b[0m\u001b[0m\n",
      "\u001b[0;32m/home/ubuntu/.local/lib/python2.7/site-packages/pandas/io/parsers.pyc\u001b[0m in \u001b[0;36m_make_engine\u001b[0;34m(self, engine)\u001b[0m\n\u001b[1;32m   1012\u001b[0m     \u001b[0;32mdef\u001b[0m \u001b[0m_make_engine\u001b[0m\u001b[0;34m(\u001b[0m\u001b[0mself\u001b[0m\u001b[0;34m,\u001b[0m \u001b[0mengine\u001b[0m\u001b[0;34m=\u001b[0m\u001b[0;34m'c'\u001b[0m\u001b[0;34m)\u001b[0m\u001b[0;34m:\u001b[0m\u001b[0;34m\u001b[0m\u001b[0m\n\u001b[1;32m   1013\u001b[0m         \u001b[0;32mif\u001b[0m \u001b[0mengine\u001b[0m \u001b[0;34m==\u001b[0m \u001b[0;34m'c'\u001b[0m\u001b[0;34m:\u001b[0m\u001b[0;34m\u001b[0m\u001b[0m\n\u001b[0;32m-> 1014\u001b[0;31m             \u001b[0mself\u001b[0m\u001b[0;34m.\u001b[0m\u001b[0m_engine\u001b[0m \u001b[0;34m=\u001b[0m \u001b[0mCParserWrapper\u001b[0m\u001b[0;34m(\u001b[0m\u001b[0mself\u001b[0m\u001b[0;34m.\u001b[0m\u001b[0mf\u001b[0m\u001b[0;34m,\u001b[0m \u001b[0;34m**\u001b[0m\u001b[0mself\u001b[0m\u001b[0;34m.\u001b[0m\u001b[0moptions\u001b[0m\u001b[0;34m)\u001b[0m\u001b[0;34m\u001b[0m\u001b[0m\n\u001b[0m\u001b[1;32m   1015\u001b[0m         \u001b[0;32melse\u001b[0m\u001b[0;34m:\u001b[0m\u001b[0;34m\u001b[0m\u001b[0m\n\u001b[1;32m   1016\u001b[0m             \u001b[0;32mif\u001b[0m \u001b[0mengine\u001b[0m \u001b[0;34m==\u001b[0m \u001b[0;34m'python'\u001b[0m\u001b[0;34m:\u001b[0m\u001b[0;34m\u001b[0m\u001b[0m\n",
      "\u001b[0;32m/home/ubuntu/.local/lib/python2.7/site-packages/pandas/io/parsers.pyc\u001b[0m in \u001b[0;36m__init__\u001b[0;34m(self, src, **kwds)\u001b[0m\n\u001b[1;32m   1706\u001b[0m         \u001b[0mkwds\u001b[0m\u001b[0;34m[\u001b[0m\u001b[0;34m'usecols'\u001b[0m\u001b[0;34m]\u001b[0m \u001b[0;34m=\u001b[0m \u001b[0mself\u001b[0m\u001b[0;34m.\u001b[0m\u001b[0musecols\u001b[0m\u001b[0;34m\u001b[0m\u001b[0m\n\u001b[1;32m   1707\u001b[0m \u001b[0;34m\u001b[0m\u001b[0m\n\u001b[0;32m-> 1708\u001b[0;31m         \u001b[0mself\u001b[0m\u001b[0;34m.\u001b[0m\u001b[0m_reader\u001b[0m \u001b[0;34m=\u001b[0m \u001b[0mparsers\u001b[0m\u001b[0;34m.\u001b[0m\u001b[0mTextReader\u001b[0m\u001b[0;34m(\u001b[0m\u001b[0msrc\u001b[0m\u001b[0;34m,\u001b[0m \u001b[0;34m**\u001b[0m\u001b[0mkwds\u001b[0m\u001b[0;34m)\u001b[0m\u001b[0;34m\u001b[0m\u001b[0m\n\u001b[0m\u001b[1;32m   1709\u001b[0m \u001b[0;34m\u001b[0m\u001b[0m\n\u001b[1;32m   1710\u001b[0m         \u001b[0mpassed_names\u001b[0m \u001b[0;34m=\u001b[0m \u001b[0mself\u001b[0m\u001b[0;34m.\u001b[0m\u001b[0mnames\u001b[0m \u001b[0;32mis\u001b[0m \u001b[0mNone\u001b[0m\u001b[0;34m\u001b[0m\u001b[0m\n",
      "\u001b[0;32mpandas/_libs/parsers.pyx\u001b[0m in \u001b[0;36mpandas._libs.parsers.TextReader.__cinit__\u001b[0;34m()\u001b[0m\n",
      "\u001b[0;32mpandas/_libs/parsers.pyx\u001b[0m in \u001b[0;36mpandas._libs.parsers.TextReader._setup_parser_source\u001b[0;34m()\u001b[0m\n",
      "\u001b[0;31mIOError\u001b[0m: File /home/ubuntu/Cvivc data lab /Assam budgetboard/dataset/assam_processed_data.csv - assam_processed_data.csv.csv does not exist"
     ]
    }
   ],
   "source": [
    "assam_data  = pd.read_csv('/home/ubuntu/Cvivc data lab /Assam budgetboard/dataset/assam_processed_data.csv - assam_processed_data.csv.csv' \n",
    ")"
   ]
  },
  {
   "cell_type": "code",
   "execution_count": null,
   "metadata": {},
   "outputs": [],
   "source": [
    "assam_data"
   ]
  },
  {
   "cell_type": "code",
   "execution_count": null,
   "metadata": {},
   "outputs": [],
   "source": [
    "assam_data['Sub-Major Head'].isna().sum()"
   ]
  },
  {
   "cell_type": "code",
   "execution_count": null,
   "metadata": {},
   "outputs": [],
   "source": [
    "assam_data['Sub-Minor Head'].isna().sum()"
   ]
  },
  {
   "cell_type": "code",
   "execution_count": 6,
   "metadata": {},
   "outputs": [
    {
     "data": {
      "text/plain": [
       "0"
      ]
     },
     "execution_count": 6,
     "metadata": {},
     "output_type": "execute_result"
    }
   ],
   "source": [
    "assam_data['HEAD DESCRIPTION'].isna().sum()"
   ]
  },
  {
   "cell_type": "code",
   "execution_count": 8,
   "metadata": {},
   "outputs": [],
   "source": [
    "head_description = assam_data['HEAD DESCRIPTION'].str.split(\"$\", n = 1, expand = True) \n"
   ]
  },
  {
   "cell_type": "code",
   "execution_count": 3,
   "metadata": {},
   "outputs": [
    {
     "ename": "NameError",
     "evalue": "name 'pd' is not defined",
     "output_type": "error",
     "traceback": [
      "\u001b[0;31m---------------------------------------------------------------------------\u001b[0m",
      "\u001b[0;31mNameError\u001b[0m                                 Traceback (most recent call last)",
      "\u001b[0;32m<ipython-input-3-492153edc1e0>\u001b[0m in \u001b[0;36m<module>\u001b[0;34m()\u001b[0m\n\u001b[0;32m----> 1\u001b[0;31m \u001b[0mhead_description_split\u001b[0m \u001b[0;34m=\u001b[0m \u001b[0mpd\u001b[0m\u001b[0;34m.\u001b[0m\u001b[0mconcat\u001b[0m\u001b[0;34m(\u001b[0m\u001b[0;34m[\u001b[0m\u001b[0mhead_description\u001b[0m\u001b[0;34m[\u001b[0m\u001b[0;36m0\u001b[0m\u001b[0;34m]\u001b[0m\u001b[0;34m,\u001b[0m\u001b[0mhead_description2\u001b[0m\u001b[0;34m[\u001b[0m\u001b[0;36m0\u001b[0m\u001b[0;34m]\u001b[0m\u001b[0;34m,\u001b[0m \u001b[0mhead_description3\u001b[0m\u001b[0;34m[\u001b[0m\u001b[0;36m0\u001b[0m\u001b[0;34m]\u001b[0m\u001b[0;34m,\u001b[0m \u001b[0mhead_description4\u001b[0m\u001b[0;34m[\u001b[0m\u001b[0;36m0\u001b[0m\u001b[0;34m]\u001b[0m\u001b[0;34m,\u001b[0m \u001b[0mhead_description5\u001b[0m\u001b[0;34m[\u001b[0m\u001b[0;36m0\u001b[0m\u001b[0;34m]\u001b[0m\u001b[0;34m,\u001b[0m \u001b[0mhead_description6\u001b[0m\u001b[0;34m[\u001b[0m\u001b[0;36m0\u001b[0m\u001b[0;34m]\u001b[0m\u001b[0;34m,\u001b[0m \u001b[0mhead_description6\u001b[0m\u001b[0;34m[\u001b[0m\u001b[0;36m1\u001b[0m\u001b[0;34m]\u001b[0m\u001b[0;34m]\u001b[0m\u001b[0;34m,\u001b[0m \u001b[0maxis\u001b[0m\u001b[0;34m=\u001b[0m\u001b[0;36m1\u001b[0m\u001b[0;34m)\u001b[0m\u001b[0;34m\u001b[0m\u001b[0m\n\u001b[0m",
      "\u001b[0;31mNameError\u001b[0m: name 'pd' is not defined"
     ]
    }
   ],
   "source": [
    "head_description_split = pd.concat([head_description[0],head_description2[0], head_description3[0], head_description4[0], head_description5[0], head_description6[0], head_description6[1]], axis=1)"
   ]
  },
  {
   "cell_type": "code",
   "execution_count": 45,
   "metadata": {},
   "outputs": [],
   "source": [
    "head_description_split.to_csv('head_description_split.csv')"
   ]
  },
  {
   "cell_type": "code",
   "execution_count": 19,
   "metadata": {},
   "outputs": [
    {
     "data": {
      "text/plain": [
       "0                           Public Service Commission\n",
       "1                           Public Service Commission\n",
       "2                           Public Service Commission\n",
       "3                           Public Service Commission\n",
       "4                           Public Service Commission\n",
       "5                           Public Service Commission\n",
       "6                           Public Service Commission\n",
       "7                           Public Service Commission\n",
       "8                           Public Service Commission\n",
       "9                           Public Service Commission\n",
       "10                          Public Service Commission\n",
       "11                          Public Service Commission\n",
       "12                          Public Service Commission\n",
       "13                          Public Service Commission\n",
       "14                          Public Service Commission\n",
       "15                          Public Service Commission\n",
       "16                          Public Service Commission\n",
       "17                          Public Service Commission\n",
       "18                          Public Service Commission\n",
       "19                          Public Service Commission\n",
       "20                          Public Service Commission\n",
       "21                          Public Service Commission\n",
       "22                          Public Service Commission\n",
       "23                          Public Service Commission\n",
       "24                          Public Service Commission\n",
       "25                          Public Service Commission\n",
       "26                          Public Service Commission\n",
       "27                          Public Service Commission\n",
       "28                          Public Service Commission\n",
       "29                          Public Service Commission\n",
       "                             ...                     \n",
       "27035                       Medical and Public Health\n",
       "27036                               General Education\n",
       "27037                               General Education\n",
       "27038                               General Education\n",
       "27039                               General Education\n",
       "27040                               General Education\n",
       "27041                               General Education\n",
       "27042                               General Education\n",
       "27043                               General Education\n",
       "27044                               General Education\n",
       "27045                                    Land Revenue\n",
       "27046                                    Land Revenue\n",
       "27047                               Urban Development\n",
       "27048                  Crop Husbandary - Horticulture\n",
       "27049                  Crop Husbandary - Horticulture\n",
       "27050                  Crop Husbandary - Horticulture\n",
       "27051                  Crop Husbandary - Horticulture\n",
       "27052                  Crop Husbandary - Horticulture\n",
       "27053                               General Education\n",
       "27054              Capital Outlay on Minor Irrigation\n",
       "27055    Welfare of Scheduled Caste, Scheduled Tribes\n",
       "27056    Welfare of Scheduled Caste, Scheduled Tribes\n",
       "27057                                       Fisheries\n",
       "27058                                       Fisheries\n",
       "27059                                       Fisheries\n",
       "27060                                       Fisheries\n",
       "27061                                       Fisheries\n",
       "27062                               Taxes on Vehicles\n",
       "27063                                  Road Transport\n",
       "27064             Agricultural Research and Education\n",
       "Name: 0, Length: 27065, dtype: object"
      ]
     },
     "execution_count": 19,
     "metadata": {},
     "output_type": "execute_result"
    }
   ],
   "source": [
    "head_description[0]"
   ]
  },
  {
   "cell_type": "code",
   "execution_count": 13,
   "metadata": {},
   "outputs": [],
   "source": [
    "series = head_description[1]"
   ]
  },
  {
   "cell_type": "code",
   "execution_count": 15,
   "metadata": {},
   "outputs": [
    {
     "data": {
      "text/plain": [
       "0        NULL$State Public Service Commission$NULL$NULL...\n",
       "1        NULL$State Public Service Commission$NULL$NULL...\n",
       "2        NULL$State Public Service Commission$NULL$NULL...\n",
       "3        NULL$State Public Service Commission$NULL$NULL...\n",
       "4        NULL$State Public Service Commission$NULL$NULL...\n",
       "5        NULL$State Public Service Commission$NULL$NULL...\n",
       "6        NULL$State Public Service Commission$NULL$NULL...\n",
       "7        NULL$State Public Service Commission$NULL$NULL...\n",
       "8        NULL$State Public Service Commission$NULL$NULL...\n",
       "9        NULL$State Public Service Commission$NULL$NULL...\n",
       "10       NULL$State Public Service Commission$NULL$NULL...\n",
       "11       NULL$State Public Service Commission$NULL$NULL...\n",
       "12       NULL$State Public Service Commission$NULL$NULL...\n",
       "13       NULL$State Public Service Commission$NULL$NULL...\n",
       "14       NULL$State Public Service Commission$NULL$NULL...\n",
       "15       NULL$State Public Service Commission$NULL$NULL...\n",
       "16       NULL$State Public Service Commission$NULL$NULL...\n",
       "17       NULL$State Public Service Commission$NULL$NULL...\n",
       "18       NULL$State Public Service Commission$NULL$NULL...\n",
       "19       NULL$State Public Service Commission$NULL$NULL...\n",
       "20       NULL$State Public Service Commission$NULL$NULL...\n",
       "21       NULL$State Public Service Commission$NULL$NULL...\n",
       "22       NULL$State Public Service Commission$NULL$NULL...\n",
       "23       NULL$State Public Service Commission$NULL$NULL...\n",
       "24       NULL$State Public Service Commission$NULL$NULL...\n",
       "25       NULL$State Public Service Commission$NULL$NULL...\n",
       "26       NULL$State Public Service Commission$NULL$NULL...\n",
       "27       NULL$State Public Service Commission$NULL$NULL...\n",
       "28       NULL$State Public Service Commission$NULL$NULL...\n",
       "29       NULL$State Public Service Commission$NULL$NULL...\n",
       "                               ...                        \n",
       "27035    Urban  Health Services-Allopathy$Direction and...\n",
       "27036    General$Training$Provincialised B.T. College$N...\n",
       "27037    General$Training$Provincialised B.T. College$N...\n",
       "27038    General$Training$Primary Teachers Training Sch...\n",
       "27039    General$Training$Primary Teachers Training Sch...\n",
       "27040    University and Higher Education$Government Col...\n",
       "27041    University and Higher Education$Government Col...\n",
       "27042    University and Higher Education$Government Col...\n",
       "27043    Secondary Education$Government Secondary Schoo...\n",
       "27044    Elementary Education$Inspection$Sub-Divisional...\n",
       "27045    NULL$Collection Charges$NULL$NULL$Salaries$Fix...\n",
       "27046    NULL$Direction and Administration$District Adm...\n",
       "27047    Integrated Development of Small and Medium Tow...\n",
       "27048    NULL$Agricultural Engineering$Agriculture Serv...\n",
       "27049    NULL$Extension and Farmers Training$NAEP-III (...\n",
       "27050    NULL$Direction and Administration$Field trial ...\n",
       "27051    NULL$Direction and Administration$Intensive Ag...\n",
       "27052    NULL$Direction and Administration$Subordinate ...\n",
       "27053    Secondary Education$Government Secondary Schoo...\n",
       "27054    NULL$Other Expenditure$Flood Project$Central A...\n",
       "27055    Welfare  of Scheduled Tribes$Other Expenditure...\n",
       "27056    Welfare  of Scheduled Tribes$Other Expenditure...\n",
       "27057    NULL$Direction and Administration$District Adm...\n",
       "27058    NULL$Inland Fisheries$Applied Nutrition Progra...\n",
       "27059    NULL$Inland Fisheries$Fish and Fish seed Farmi...\n",
       "27060    NULL$Inland Fisheries$National Fish Seed Farm$...\n",
       "27061    NULL$Extension and Training$Fisheries Extensio...\n",
       "27062    NULL$Collection Charges$Commissioner of Transp...\n",
       "27063    NULL$Direction and Administration$Road Safety ...\n",
       "27064    Fisheries$Research$Survey of FIisheries and Co...\n",
       "Name: 1, Length: 27065, dtype: object"
      ]
     },
     "execution_count": 15,
     "metadata": {},
     "output_type": "execute_result"
    }
   ],
   "source": [
    "head_description[1]"
   ]
  },
  {
   "cell_type": "code",
   "execution_count": 20,
   "metadata": {},
   "outputs": [],
   "source": [
    "head_description2 = series.str.split(\"$\", n = 1, expand = True) "
   ]
  },
  {
   "cell_type": "code",
   "execution_count": 22,
   "metadata": {},
   "outputs": [
    {
     "data": {
      "text/plain": [
       "0                                                    NULL\n",
       "1                                                    NULL\n",
       "2                                                    NULL\n",
       "3                                                    NULL\n",
       "4                                                    NULL\n",
       "5                                                    NULL\n",
       "6                                                    NULL\n",
       "7                                                    NULL\n",
       "8                                                    NULL\n",
       "9                                                    NULL\n",
       "10                                                   NULL\n",
       "11                                                   NULL\n",
       "12                                                   NULL\n",
       "13                                                   NULL\n",
       "14                                                   NULL\n",
       "15                                                   NULL\n",
       "16                                                   NULL\n",
       "17                                                   NULL\n",
       "18                                                   NULL\n",
       "19                                                   NULL\n",
       "20                                                   NULL\n",
       "21                                                   NULL\n",
       "22                                                   NULL\n",
       "23                                                   NULL\n",
       "24                                                   NULL\n",
       "25                                                   NULL\n",
       "26                                                   NULL\n",
       "27                                                   NULL\n",
       "28                                                   NULL\n",
       "29                                                   NULL\n",
       "                               ...                       \n",
       "27035                    Urban  Health Services-Allopathy\n",
       "27036                                             General\n",
       "27037                                             General\n",
       "27038                                             General\n",
       "27039                                             General\n",
       "27040                     University and Higher Education\n",
       "27041                     University and Higher Education\n",
       "27042                     University and Higher Education\n",
       "27043                                 Secondary Education\n",
       "27044                                Elementary Education\n",
       "27045                                                NULL\n",
       "27046                                                NULL\n",
       "27047    Integrated Development of Small and Medium Towns\n",
       "27048                                                NULL\n",
       "27049                                                NULL\n",
       "27050                                                NULL\n",
       "27051                                                NULL\n",
       "27052                                                NULL\n",
       "27053                                 Secondary Education\n",
       "27054                                                NULL\n",
       "27055                        Welfare  of Scheduled Tribes\n",
       "27056                        Welfare  of Scheduled Tribes\n",
       "27057                                                NULL\n",
       "27058                                                NULL\n",
       "27059                                                NULL\n",
       "27060                                                NULL\n",
       "27061                                                NULL\n",
       "27062                                                NULL\n",
       "27063                                                NULL\n",
       "27064                                           Fisheries\n",
       "Name: 0, Length: 27065, dtype: object"
      ]
     },
     "execution_count": 22,
     "metadata": {},
     "output_type": "execute_result"
    }
   ],
   "source": [
    "head_description2[0]"
   ]
  },
  {
   "cell_type": "code",
   "execution_count": 24,
   "metadata": {},
   "outputs": [],
   "source": [
    "head_description3 = head_description2[1].str.split(\"$\", n = 1, expand = True) "
   ]
  },
  {
   "cell_type": "code",
   "execution_count": 25,
   "metadata": {},
   "outputs": [
    {
     "data": {
      "text/plain": [
       "0           State Public Service Commission\n",
       "1           State Public Service Commission\n",
       "2           State Public Service Commission\n",
       "3           State Public Service Commission\n",
       "4           State Public Service Commission\n",
       "5           State Public Service Commission\n",
       "6           State Public Service Commission\n",
       "7           State Public Service Commission\n",
       "8           State Public Service Commission\n",
       "9           State Public Service Commission\n",
       "10          State Public Service Commission\n",
       "11          State Public Service Commission\n",
       "12          State Public Service Commission\n",
       "13          State Public Service Commission\n",
       "14          State Public Service Commission\n",
       "15          State Public Service Commission\n",
       "16          State Public Service Commission\n",
       "17          State Public Service Commission\n",
       "18          State Public Service Commission\n",
       "19          State Public Service Commission\n",
       "20          State Public Service Commission\n",
       "21          State Public Service Commission\n",
       "22          State Public Service Commission\n",
       "23          State Public Service Commission\n",
       "24          State Public Service Commission\n",
       "25          State Public Service Commission\n",
       "26          State Public Service Commission\n",
       "27          State Public Service Commission\n",
       "28          State Public Service Commission\n",
       "29          State Public Service Commission\n",
       "                        ...                \n",
       "27035          Direction and Administration\n",
       "27036                              Training\n",
       "27037                              Training\n",
       "27038                              Training\n",
       "27039                              Training\n",
       "27040    Government Colleges and Institutes\n",
       "27041    Government Colleges and Institutes\n",
       "27042    Government Colleges and Institutes\n",
       "27043          Government Secondary Schools\n",
       "27044                            Inspection\n",
       "27045                    Collection Charges\n",
       "27046          Direction and Administration\n",
       "27047          Direction and Administration\n",
       "27048              Agricultural Engineering\n",
       "27049        Extension and Farmers Training\n",
       "27050          Direction and Administration\n",
       "27051          Direction and Administration\n",
       "27052          Direction and Administration\n",
       "27053          Government Secondary Schools\n",
       "27054                     Other Expenditure\n",
       "27055                     Other Expenditure\n",
       "27056                     Other Expenditure\n",
       "27057          Direction and Administration\n",
       "27058                      Inland Fisheries\n",
       "27059                      Inland Fisheries\n",
       "27060                      Inland Fisheries\n",
       "27061                Extension and Training\n",
       "27062                    Collection Charges\n",
       "27063          Direction and Administration\n",
       "27064                              Research\n",
       "Name: 0, Length: 27065, dtype: object"
      ]
     },
     "execution_count": 25,
     "metadata": {},
     "output_type": "execute_result"
    }
   ],
   "source": [
    "head_description3[0]"
   ]
  },
  {
   "cell_type": "code",
   "execution_count": 27,
   "metadata": {},
   "outputs": [],
   "source": [
    "head_description4 = head_description3[1].str.split(\"$\", n = 1, expand = True) "
   ]
  },
  {
   "cell_type": "code",
   "execution_count": 28,
   "metadata": {},
   "outputs": [
    {
     "data": {
      "text/plain": [
       "0                                                     NULL\n",
       "1                                                     NULL\n",
       "2                                                     NULL\n",
       "3                                                     NULL\n",
       "4                                                     NULL\n",
       "5                                                     NULL\n",
       "6                                                     NULL\n",
       "7                                                     NULL\n",
       "8                                                     NULL\n",
       "9                                                     NULL\n",
       "10                                                    NULL\n",
       "11                                                    NULL\n",
       "12                                                    NULL\n",
       "13                                                    NULL\n",
       "14                                                    NULL\n",
       "15                                                    NULL\n",
       "16                                                    NULL\n",
       "17                                                    NULL\n",
       "18                                                    NULL\n",
       "19                                                    NULL\n",
       "20                                                    NULL\n",
       "21                                                    NULL\n",
       "22                                                    NULL\n",
       "23                                                    NULL\n",
       "24                                                    NULL\n",
       "25                                                    NULL\n",
       "26                                                    NULL\n",
       "27                                                    NULL\n",
       "28                                                    NULL\n",
       "29                                                    NULL\n",
       "                               ...                        \n",
       "27035                               District Establishment\n",
       "27036                          Provincialised B.T. College\n",
       "27037                          Provincialised B.T. College\n",
       "27038                     Primary Teachers Training School\n",
       "27039                     Primary Teachers Training School\n",
       "27040    Provincialised Teachers/ Employees serving in ...\n",
       "27041    Provincialised Teachers/ Employees serving in ...\n",
       "27042                               Government Art College\n",
       "27043                            Secondary School for Boys\n",
       "27044                                Sub-Divisional Office\n",
       "27045                                                 NULL\n",
       "27046                              District Administration\n",
       "27047                                        Planning Wing\n",
       "27048                          Agriculture Service Centres\n",
       "27049                   NAEP-III (Mission Double Cropping)\n",
       "27050                          Field trial stations & Cell\n",
       "27051              Intensive Agriculture Extention Schemes\n",
       "27052                            Subordinate Establishment\n",
       "27053                            Secondary School for Boys\n",
       "27054                                        Flood Project\n",
       "27055                         Administrative Grants in BTC\n",
       "27056        Special Grants to Bodoland Autonomous Council\n",
       "27057                              District Administration\n",
       "27058                          Applied Nutrition Programme\n",
       "27059                           Fish and Fish seed Farming\n",
       "27060                              National Fish Seed Farm\n",
       "27061                          Fisheries Extension service\n",
       "27062                            Commissioner of Transport\n",
       "27063                                    Road Safety staff\n",
       "27064    Survey of FIisheries and Collection of Statistics\n",
       "Name: 0, Length: 27065, dtype: object"
      ]
     },
     "execution_count": 28,
     "metadata": {},
     "output_type": "execute_result"
    }
   ],
   "source": [
    "head_description4[0]"
   ]
  },
  {
   "cell_type": "code",
   "execution_count": 30,
   "metadata": {},
   "outputs": [],
   "source": [
    "head_description5 = head_description4[1].str.split(\"$\", n = 1, expand = True) "
   ]
  },
  {
   "cell_type": "code",
   "execution_count": 31,
   "metadata": {},
   "outputs": [
    {
     "data": {
      "text/plain": [
       "0                              NULL\n",
       "1                              NULL\n",
       "2                              NULL\n",
       "3                              NULL\n",
       "4                              NULL\n",
       "5                              NULL\n",
       "6                              NULL\n",
       "7                              NULL\n",
       "8                              NULL\n",
       "9                              NULL\n",
       "10                             NULL\n",
       "11                             NULL\n",
       "12                             NULL\n",
       "13                             NULL\n",
       "14                             NULL\n",
       "15                             NULL\n",
       "16                             NULL\n",
       "17                             NULL\n",
       "18                             NULL\n",
       "19                             NULL\n",
       "20                             NULL\n",
       "21                             NULL\n",
       "22                             NULL\n",
       "23                             NULL\n",
       "24                             NULL\n",
       "25                             NULL\n",
       "26                             NULL\n",
       "27                             NULL\n",
       "28                             NULL\n",
       "29                             NULL\n",
       "                    ...            \n",
       "27035                          NULL\n",
       "27036                          NULL\n",
       "27037                          NULL\n",
       "27038                          NULL\n",
       "27039                          NULL\n",
       "27040                          NULL\n",
       "27041                          NULL\n",
       "27042                          NULL\n",
       "27043                          NULL\n",
       "27044                          NULL\n",
       "27045                          NULL\n",
       "27046                          NULL\n",
       "27047                          NULL\n",
       "27048                          NULL\n",
       "27049                          NULL\n",
       "27050                          NULL\n",
       "27051                          NULL\n",
       "27052                          NULL\n",
       "27053                          NULL\n",
       "27054    Central Assistance to AIBP\n",
       "27055                          NULL\n",
       "27056                          NULL\n",
       "27057                          NULL\n",
       "27058                          NULL\n",
       "27059                          NULL\n",
       "27060                          NULL\n",
       "27061                          NULL\n",
       "27062                          NULL\n",
       "27063                          NULL\n",
       "27064                          NULL\n",
       "Name: 0, Length: 27065, dtype: object"
      ]
     },
     "execution_count": 31,
     "metadata": {},
     "output_type": "execute_result"
    }
   ],
   "source": [
    "head_description5[0]"
   ]
  },
  {
   "cell_type": "code",
   "execution_count": 33,
   "metadata": {},
   "outputs": [],
   "source": [
    "head_description6 = head_description5[1].str.split(\"$\", n = 1, expand = True) "
   ]
  },
  {
   "cell_type": "code",
   "execution_count": 35,
   "metadata": {},
   "outputs": [
    {
     "data": {
      "text/plain": [
       "0                                             Salaries\n",
       "1                                             Salaries\n",
       "2                                             Salaries\n",
       "3                                             Salaries\n",
       "4                                             Salaries\n",
       "5                                             Salaries\n",
       "6                                      Travel Expenses\n",
       "7                                      Office Expenses\n",
       "8                                             Salaries\n",
       "9                                             Salaries\n",
       "10                                     Office Expenses\n",
       "11                                     Office Expenses\n",
       "12                                     Office Expenses\n",
       "13                                     Office Expenses\n",
       "14                                     Office Expenses\n",
       "15                                     Office Expenses\n",
       "16                                     Office Expenses\n",
       "17                                     Office Expenses\n",
       "18                                     Office Expenses\n",
       "19                                     Office Expenses\n",
       "20                                     Office Expenses\n",
       "21       Payment for Professional and Special Services\n",
       "22       Payment for Professional and Special Services\n",
       "23                                       Other Charges\n",
       "24            Machinery and Equipment / Tools & Plants\n",
       "25                                       Other Charges\n",
       "26                                       Other Charges\n",
       "27                                               Wages\n",
       "28       Payment for Professional and Special Services\n",
       "29                                         Minor Works\n",
       "                             ...                      \n",
       "27035                                  Office Expenses\n",
       "27036                   Rents, Rates & Taxes / Royalty\n",
       "27037                                            Wages\n",
       "27038                   Rents, Rates & Taxes / Royalty\n",
       "27039                                            Wages\n",
       "27040                   Rents, Rates & Taxes / Royalty\n",
       "27041                                            Wages\n",
       "27042                                            Wages\n",
       "27043                   Rents, Rates & Taxes / Royalty\n",
       "27044                   Rents, Rates & Taxes / Royalty\n",
       "27045                                         Salaries\n",
       "27046                                  Office Expenses\n",
       "27047                                         Salaries\n",
       "27048                                  Office Expenses\n",
       "27049                                  Office Expenses\n",
       "27050                                            Wages\n",
       "27051                                  Office Expenses\n",
       "27052                                  Office Expenses\n",
       "27053                                            Wages\n",
       "27054               Grants-in-aid General (Non-Salary)\n",
       "27055               Grants-in-aid General (Non-Salary)\n",
       "27056               Grants-in-aid General (Non-Salary)\n",
       "27057                                  Travel Expenses\n",
       "27058                                  Travel Expenses\n",
       "27059                                  Travel Expenses\n",
       "27060                                  Travel Expenses\n",
       "27061                                  Travel Expenses\n",
       "27062                                  Travel Expenses\n",
       "27063                                  Travel Expenses\n",
       "27064                                  Travel Expenses\n",
       "Name: 0, Length: 27065, dtype: object"
      ]
     },
     "execution_count": 35,
     "metadata": {},
     "output_type": "execute_result"
    }
   ],
   "source": [
    "head_description6[0]"
   ]
  },
  {
   "cell_type": "code",
   "execution_count": 36,
   "metadata": {},
   "outputs": [
    {
     "data": {
      "text/plain": [
       "0                                                      Pay\n",
       "1                                       Dearness Allowance\n",
       "2                                  Leave Travel Concession\n",
       "3                                    Medical Reimbursement\n",
       "4                                         Arrear Salary/DA\n",
       "5                                      Pay Revision Arrear\n",
       "6                                                     NULL\n",
       "7                                            Postage Stamp\n",
       "8                                        Medical Allowance\n",
       "9                                     House Rent Allowance\n",
       "10                                        Telephone Charge\n",
       "11                            Electricity and Water Charge\n",
       "12       Office Equipments including Computers & Access...\n",
       "13                        Stationery and Printing of Forms\n",
       "14                                               Furniture\n",
       "15                                                Liveries\n",
       "16                                 Maintenance of Vehicles\n",
       "17                        Petrol, Oil and Lubricants (POL)\n",
       "18                                   Books and Periodicals\n",
       "19                                    Refreshment Expenses\n",
       "20                                                  Others\n",
       "21                  Remuneration for Professional Services\n",
       "22                                           Legal Service\n",
       "23                                                Training\n",
       "24                                 Machinery and Equipment\n",
       "25                                     Disaster management\n",
       "26                                                  Others\n",
       "27                                           Bungalow Peon\n",
       "28                                                  Others\n",
       "29                                                   Other\n",
       "                               ...                        \n",
       "27035                              Maintenance of Vehicles\n",
       "27036                                         Rates &Taxes\n",
       "27037                                    Part Time Sweeper\n",
       "27038                                         Rates &Taxes\n",
       "27039                                    Part Time Sweeper\n",
       "27040                                         Rates &Taxes\n",
       "27041                                    Part Time Sweeper\n",
       "27042                                    Part Time Sweeper\n",
       "27043                                         Rates &Taxes\n",
       "27044                                         Rates &Taxes\n",
       "27045                                            Fixed Pay\n",
       "27046                              Maintenance of Vehicles\n",
       "27047                                     Arrear Salary/DA\n",
       "27048                              Maintenance of Vehicles\n",
       "27049                              Maintenance of Vehicles\n",
       "27050                            Wages to Casual Employees\n",
       "27051                              Maintenance of Vehicles\n",
       "27052                              Maintenance of Vehicles\n",
       "27053                                    Part Time Sweeper\n",
       "27054                                               Others\n",
       "27055                                               Others\n",
       "27056                                               Others\n",
       "27057                                              Regular\n",
       "27058                                              Regular\n",
       "27059                                              Regular\n",
       "27060                                              Regular\n",
       "27061                                              Regular\n",
       "27062                                              Regular\n",
       "27063                                              Regular\n",
       "27064                                              Regular\n",
       "Name: 1, Length: 27065, dtype: object"
      ]
     },
     "execution_count": 36,
     "metadata": {},
     "output_type": "execute_result"
    }
   ],
   "source": [
    "head_description6[1]"
   ]
  },
  {
   "cell_type": "code",
   "execution_count": 2,
   "metadata": {},
   "outputs": [
    {
     "ename": "NameError",
     "evalue": "name 'head_description_split' is not defined",
     "output_type": "error",
     "traceback": [
      "\u001b[0;31m---------------------------------------------------------------------------\u001b[0m",
      "\u001b[0;31mNameError\u001b[0m                                 Traceback (most recent call last)",
      "\u001b[0;32m<ipython-input-2-ac64f21b9558>\u001b[0m in \u001b[0;36m<module>\u001b[0;34m()\u001b[0m\n\u001b[0;32m----> 1\u001b[0;31m \u001b[0mhead_description_split\u001b[0m\u001b[0;34m\u001b[0m\u001b[0m\n\u001b[0m",
      "\u001b[0;31mNameError\u001b[0m: name 'head_description_split' is not defined"
     ]
    }
   ],
   "source": [
    "head_description_split"
   ]
  },
  {
   "cell_type": "code",
   "execution_count": null,
   "metadata": {},
   "outputs": [],
   "source": []
  },
  {
   "cell_type": "code",
   "execution_count": null,
   "metadata": {},
   "outputs": [],
   "source": []
  }
 ],
 "metadata": {
  "kernelspec": {
   "display_name": "Python 2",
   "language": "python",
   "name": "python2"
  },
  "language_info": {
   "codemirror_mode": {
    "name": "ipython",
    "version": 2
   },
   "file_extension": ".py",
   "mimetype": "text/x-python",
   "name": "python",
   "nbconvert_exporter": "python",
   "pygments_lexer": "ipython2",
   "version": "2.7.15rc1"
  }
 },
 "nbformat": 4,
 "nbformat_minor": 2
}
